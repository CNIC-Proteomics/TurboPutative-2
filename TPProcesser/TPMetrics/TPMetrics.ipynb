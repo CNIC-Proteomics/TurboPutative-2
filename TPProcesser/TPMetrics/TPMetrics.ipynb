{
 "cells": [
  {
   "cell_type": "code",
   "execution_count": 1,
   "metadata": {},
   "outputs": [],
   "source": [
    "from TPMetrics import TPMetrics\n",
    "import configparser\n",
    "import os\n",
    "import pandas as pd\n",
    "import numpy as np\n",
    "import re\n",
    "from itertools import repeat\n",
    "from scipy.stats import rankdata"
   ]
  },
  {
   "cell_type": "code",
   "execution_count": 3,
   "metadata": {},
   "outputs": [],
   "source": [
    "tpmetrics = TPMetrics(r'/home/rafael/CNIC/Metabolomics/TurboPutativeCode/testing/std_test_TPMetric')\n",
    "tpmetrics.getClasses()\n",
    "tpmetrics.getCorrelations()\n",
    "tpmetrics.writeOutfile(tpmetrics.df, tpmetrics.outfile, tpmetrics.finalCols)"
   ]
  },
  {
   "cell_type": "code",
   "execution_count": 6,
   "metadata": {},
   "outputs": [
    {
     "data": {
      "text/plain": [
       "['FeatureInfo_Name',\n",
       " 'Apex m/z',\n",
       " 'RT [min]',\n",
       " 'Identifier',\n",
       " 'Adduct',\n",
       " 'mz Error (ppm)',\n",
       " 'Molecular Weight',\n",
       " 'Name',\n",
       " 'Peptide',\n",
       " 'Halogenated',\n",
       " 'Plant',\n",
       " 'NaturalProduct',\n",
       " 'MDM',\n",
       " 'Drug',\n",
       " 'Food',\n",
       " 'Formula']"
      ]
     },
     "execution_count": 6,
     "metadata": {},
     "output_type": "execute_result"
    }
   ],
   "source": [
    "tpmetrics.initCols"
   ]
  },
  {
   "cell_type": "code",
   "execution_count": 4,
   "metadata": {},
   "outputs": [],
   "source": [
    "tpmetrics.TPFilter()\n",
    "tpmetrics.filterTable()\n",
    "tpmetrics.writeOutfile(tpmetrics.dfFilt, tpmetrics.outfileFilt, tpmetrics.finalColsFilt)"
   ]
  },
  {
   "cell_type": "code",
   "execution_count": 2,
   "metadata": {},
   "outputs": [],
   "source": [
    "self = TPMetrics(r'/home/rafael/CNIC/Metabolomics/TurboPutativeCode/testing/std_test_TPMetric')\n",
    "self = TPMetrics(args.workdir)\n",
    "self.getClasses()\n",
    "self.getCorrelations()\n",
    "self.writeOutfile(self.outfile, self.finalCols)"
   ]
  }
 ],
 "metadata": {
  "kernelspec": {
   "display_name": "Python 3.9.5 ('base')",
   "language": "python",
   "name": "python3"
  },
  "language_info": {
   "codemirror_mode": {
    "name": "ipython",
    "version": 3
   },
   "file_extension": ".py",
   "mimetype": "text/x-python",
   "name": "python",
   "nbconvert_exporter": "python",
   "pygments_lexer": "ipython3",
   "version": "3.9.5"
  },
  "orig_nbformat": 4,
  "vscode": {
   "interpreter": {
    "hash": "266334e424d88184042804645b05b144a44c076c18798a1d43c9ebc1164a6b77"
   }
  }
 },
 "nbformat": 4,
 "nbformat_minor": 2
}
