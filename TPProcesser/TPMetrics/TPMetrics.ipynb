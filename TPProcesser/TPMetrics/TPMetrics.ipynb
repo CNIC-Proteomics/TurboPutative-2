{
 "cells": [
  {
   "cell_type": "code",
   "execution_count": 4,
   "metadata": {},
   "outputs": [],
   "source": [
    "from TPMetrics import TPMetrics\n",
    "import configparser\n",
    "import os\n",
    "import pandas as pd\n",
    "import numpy as np\n",
    "import re\n",
    "from itertools import repeat\n",
    "from scipy.stats import rankdata"
   ]
  }
 ],
 "metadata": {
  "kernelspec": {
   "display_name": "Python 3.9.5 ('base')",
   "language": "python",
   "name": "python3"
  },
  "language_info": {
   "codemirror_mode": {
    "name": "ipython",
    "version": 3
   },
   "file_extension": ".py",
   "mimetype": "text/x-python",
   "name": "python",
   "nbconvert_exporter": "python",
   "pygments_lexer": "ipython3",
   "version": "3.9.5"
  },
  "orig_nbformat": 4,
  "vscode": {
   "interpreter": {
    "hash": "266334e424d88184042804645b05b144a44c076c18798a1d43c9ebc1164a6b77"
   }
  }
 },
 "nbformat": 4,
 "nbformat_minor": 2
}
