{
 "cells": [
  {
   "cell_type": "code",
   "execution_count": 1,
   "metadata": {},
   "outputs": [],
   "source": [
    "from TPMetrics import TPMetrics\n",
    "import configparser\n",
    "import os\n",
    "import pandas as pd\n",
    "import numpy as np\n",
    "import re\n",
    "from itertools import repeat\n",
    "from scipy.stats import rankdata"
   ]
  },
  {
   "cell_type": "code",
   "execution_count": 2,
   "metadata": {},
   "outputs": [],
   "source": [
    "self = TPMetrics(r'/home/rafael/CNIC/Metabolomics/TurboPutativeCode/testing/std_test_TPMetric')\n",
    "self.getClasses()\n",
    "self.getCorrelations()\n",
    "#self.writeOutfile()"
   ]
  },
  {
   "cell_type": "code",
   "execution_count": 3,
   "metadata": {},
   "outputs": [],
   "source": [
    "l = self.df.loc[:, self.finalCols]"
   ]
  },
  {
   "cell_type": "code",
   "execution_count": 4,
   "metadata": {},
   "outputs": [],
   "source": [
    "l = self.df.loc[:, [self.n, self.tpc]]"
   ]
  },
  {
   "cell_type": "code",
   "execution_count": 5,
   "metadata": {},
   "outputs": [],
   "source": [
    "l = self.df.loc[:, [self.n, self.tpc]]"
   ]
  },
  {
   "cell_type": "code",
   "execution_count": 3,
   "metadata": {},
   "outputs": [],
   "source": [
    "df = self.df.loc[:, ['index', self.a, self.tpc]].dropna()\n",
    "df[self.tpc] = df[self.tpc].str.split(' // ')\n",
    "df = df.explode(self.tpc)\n",
    "dfl = list(zip(*[j for i,j in df.to_dict('list').items()]))\n",
    "\n",
    "dfl = [\n",
    "    (index, adduct, lipid, self.L2An[lipid], self.L2A2i[lipid][adduct])\n",
    "    for index, adduct, lipid in dfl if lipid in self.L and adduct in self.L2A[lipid]\n",
    "]\n",
    "\n",
    "dfl = pd.DataFrame(\n",
    "    dfl, columns=['index', self.a, self.tpc, self.s3An, self.s3Ai]\n",
    ")\n",
    "\n",
    "maxScore = 12\n",
    "minScore = 6\n",
    "\n",
    "dfl[self.s3s] = maxScore\n",
    "dfl.loc[dfl[self.s3An]>1, self.s3s] = -((maxScore-minScore)/(dfl.loc[dfl[self.s3An]>1, self.s3An]-1))*(dfl.loc[dfl[self.s3An]>1, self.s3Ai]-1) + maxScore\n",
    "\n",
    "\n",
    "df = pd.merge(\n",
    "    df.loc[:, ['index', self.tpc]],\n",
    "    dfl.loc[:, ['index', self.tpc, self.s3An, self.s3Ai, self.s3s]],\n",
    "    on=['index', self.tpc],\n",
    "    how='left'\n",
    ")\n",
    "df[self.s3s] = df[self.s3s].fillna(0)\n",
    "df = df.groupby('index').agg(list).reset_index()\n",
    "\n",
    "self.df = pd.merge(\n",
    "    self.df,\n",
    "    df.loc[:, ['index', self.s3An, self.s3Ai, self.s3s]],\n",
    "    on='index',\n",
    "    how='left'\n",
    ")"
   ]
  }
 ],
 "metadata": {
  "kernelspec": {
   "display_name": "Python 3.9.5 ('base')",
   "language": "python",
   "name": "python3"
  },
  "language_info": {
   "codemirror_mode": {
    "name": "ipython",
    "version": 3
   },
   "file_extension": ".py",
   "mimetype": "text/x-python",
   "name": "python",
   "nbconvert_exporter": "python",
   "pygments_lexer": "ipython3",
   "version": "3.9.5"
  },
  "orig_nbformat": 4,
  "vscode": {
   "interpreter": {
    "hash": "266334e424d88184042804645b05b144a44c076c18798a1d43c9ebc1164a6b77"
   }
  }
 },
 "nbformat": 4,
 "nbformat_minor": 2
}
